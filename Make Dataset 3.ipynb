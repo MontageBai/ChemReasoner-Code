{
 "cells": [
  {
   "cell_type": "code",
   "execution_count": 1,
   "id": "205e78b4-b033-41a7-beef-1b7d487dfab0",
   "metadata": {},
   "outputs": [],
   "source": [
    "def read_json_file(file_path):\n",
    "    \"\"\"\n",
    "    Read a JSON file from the specified path and return the parsed object.\n",
    "    \n",
    "    :param file_path: Path to the JSON file\n",
    "    :return: Parsed JSON data (usually a dict or list)\n",
    "    \"\"\"\n",
    "    with open(file_path, 'r', encoding='utf-8') as file:\n",
    "        data = json.load(file)\n",
    "    return data\n"
   ]
  },
  {
   "cell_type": "code",
   "execution_count": 3,
   "id": "6cba390f-6453-4d3a-b57b-39a9785361f6",
   "metadata": {},
   "outputs": [],
   "source": [
    "def write_json_file(file_path, data):\n",
    "    \"\"\"\n",
    "    Write the given data to a JSON file at the specified path.\n",
    "    \n",
    "    :param file_path: Path to the JSON file\n",
    "    :param data: Data to be written (usually a dict or list)\n",
    "    \"\"\"\n",
    "    with open(file_path, 'w', encoding='utf-8') as file:\n",
    "        json.dump(data, file, ensure_ascii=False, indent=4)\n"
   ]
  },
  {
   "cell_type": "code",
   "execution_count": 33,
   "id": "f6185386-7945-4ae4-91f8-9a5ee44548a3",
   "metadata": {},
   "outputs": [],
   "source": [
    "def deepseek_qa(question):\n",
    "    reasoning_content = \"\"  # define the complete reasoning process\n",
    "    answer_content = \"\"     # define the complete response\n",
    "    is_answering = False    # determine whether the reasoning has ended and the response has started\n",
    "\n",
    "    # create chat completion request\n",
    "    stream = client.chat.completions.create(\n",
    "        model=\"deepseek-r1\",  # using deepseek-r1 here as an example; replace with another model if needed\n",
    "        messages=[\n",
    "            {\"role\": \"user\", \"content\": question}\n",
    "        ],\n",
    "        stream=True\n",
    "        # Uncomment the following to include token usage in the final chunk\n",
    "        # stream_options={\n",
    "        #     \"include_usage\": True\n",
    "        # }\n",
    "    )\n",
    "\n",
    "    # print(\"\\n\" + \"=\" * 20 + \"Reasoning Process\" + \"=\" * 20 + \"\\n\")\n",
    "\n",
    "    for chunk in stream:\n",
    "        # handle usage info\n",
    "        if not getattr(chunk, 'choices', None):\n",
    "            # print(\"\\n\" + \"=\" * 20 + \"Token Usage\" + \"=\" * 20 + \"\\n\")\n",
    "            print(chunk.usage)\n",
    "            continue\n",
    "\n",
    "        delta = chunk.choices[0].delta\n",
    "\n",
    "        # check if reasoning_content attribute exists\n",
    "        if not hasattr(delta, 'reasoning_content'):\n",
    "            continue\n",
    "\n",
    "        # handle empty content case\n",
    "        if not getattr(delta, 'reasoning_content', None) and not getattr(delta, 'content', None):\n",
    "            continue\n",
    "\n",
    "        # handle the start of the answer\n",
    "        if not getattr(delta, 'reasoning_content', None) and not is_answering:\n",
    "            print(\"\\n\" + \"=\" * 20 + \"Complete Response\" + \"=\" * 20 + \"\\n\")\n",
    "            is_answering = True\n",
    "\n",
    "        # handle reasoning process\n",
    "        if getattr(delta, 'reasoning_content', None):\n",
    "            print(delta.reasoning_content, end='', flush=True)\n",
    "            reasoning_content += delta.reasoning_content\n",
    "        # handle response content\n",
    "        elif getattr(delta, 'content', None):\n",
    "            print(delta.content, end='', flush=True)\n",
    "            answer_content += delta.content\n",
    "\n",
    "    # If you need to print the complete content, leave the following uncommented\n",
    "\n",
    "    print(\"=\" * 20 + \"Complete Reasoning Process\" + \"=\" * 20 + \"\\n\")\n",
    "    print(reasoning_content)\n",
    "    print(\"=\" * 20 + \"Complete Response\" + \"=\" * 20 + \"\\n\")\n",
    "    print(answer_content)\n",
    "\n",
    "    return reasoning_content, answer_content\n"
   ]
  },
  {
   "cell_type": "code",
   "execution_count": 37,
   "id": "74a9fee2-4f46-4c09-8599-9569de946ec0",
   "metadata": {},
   "outputs": [],
   "source": [
    "\n",
    "\n",
    "def process_json_file(jsonfile, jsondir):\n",
    "    filepath = f\"{jsondir}\\\\{jsonfile}\"\n",
    "    json_data = read_json_file(filepath)\n",
    "    print(f\"{jsonfile} is running\")\n",
    "    reasoning_content, answer = deepseek_qa(json_data['message_1'])\n",
    "    \n",
    "    json_data[\"reasoning_content\"] = reasoning_content\n",
    "    json_data[\"content\"] = answer\n",
    "    \n",
    "    write_json_file(filepath, json_data)\n",
    "    print(f\"{jsonfile} is done\")\n",
    "    \n",
    "def main(jsondir):\n",
    "    with ThreadPoolExecutor(max_workers=1) as executor:\n",
    "        for jsonfile in os.listdir(jsondir):\n",
    "            \n",
    "            executor.submit(process_json_file, jsonfile, jsondir)\n",
    "            "
   ]
  },
  {
   "cell_type": "code",
   "execution_count": 41,
   "id": "83085229-6df0-445c-8ad4-b4dea4b39d61",
   "metadata": {},
   "outputs": [
    {
     "name": "stdout",
     "output_type": "stream",
     "text": [
      "024_008_014.json is running\n"
     ]
    }
   ],
   "source": [
    "import json\n",
    "import os\n",
    "from openai import OpenAI\n",
    "from concurrent.futures import ThreadPoolExecutor\n",
    "\n",
    "client = OpenAI(\n",
    "    # If the environment variable is not configured, replace the following line with your Bailian API Key, e.g., api_key=\"sk-xxx\",\n",
    "    api_key=\"\",  # How to get an API Key: https://help.aliyun.com/zh/model-studio/developer-reference/get-api-key\n",
    "    base_url=\"https://dashscope.aliyuncs.com/compatible-mode/v1\",\n",
    ")\n",
    "\n",
    "jsondir = \"F:\\\\Working\\\\ModelDistillation\\\\Chemistry\"\n",
    "main(jsondir)\n"
   ]
  },
  {
   "cell_type": "code",
   "execution_count": null,
   "id": "5c611edd-4948-448a-9ff1-3a74870abe8f",
   "metadata": {},
   "outputs": [],
   "source": []
  }
 ],
 "metadata": {
  "kernelspec": {
   "display_name": "Python 3 (ipykernel)",
   "language": "python",
   "name": "python3"
  },
  "language_info": {
   "codemirror_mode": {
    "name": "ipython",
    "version": 3
   },
   "file_extension": ".py",
   "mimetype": "text/x-python",
   "name": "python",
   "nbconvert_exporter": "python",
   "pygments_lexer": "ipython3",
   "version": "3.12.3"
  }
 },
 "nbformat": 4,
 "nbformat_minor": 5
}
