{
 "cells": [
  {
   "cell_type": "code",
   "execution_count": 1,
   "id": "205e78b4-b033-41a7-beef-1b7d487dfab0",
   "metadata": {},
   "outputs": [],
   "source": [
    "def read_json_file(file_path):\n",
    "    \"\"\"\n",
    "    读取指定路径的JSON文件，并返回解析后的对象。\n",
    "    \n",
    "    :param file_path: JSON文件的路径\n",
    "    :return: 解析后的JSON数据（通常为dict或list）\n",
    "    \"\"\"\n",
    "    with open(file_path, 'r', encoding='utf-8') as file:\n",
    "        data = json.load(file)\n",
    "    return data"
   ]
  },
  {
   "cell_type": "code",
   "execution_count": 3,
   "id": "6cba390f-6453-4d3a-b57b-39a9785361f6",
   "metadata": {},
   "outputs": [],
   "source": [
    "def write_json_file(file_path, data):\n",
    "    \"\"\"\n",
    "    将给定的数据写入到指定路径的JSON文件中。\n",
    "    \n",
    "    :param file_path: JSON文件的路径\n",
    "    :param data: 要写入的数据（通常为dict或list）\n",
    "    \"\"\"\n",
    "    with open(file_path, 'w', encoding='utf-8') as file:\n",
    "        json.dump(data, file, ensure_ascii=False, indent=4)"
   ]
  },
  {
   "cell_type": "code",
   "execution_count": 33,
   "id": "f6185386-7945-4ae4-91f8-9a5ee44548a3",
   "metadata": {},
   "outputs": [],
   "source": [
    "def deepseek_qa(question):\n",
    "    reasoning_content = \"\"  # 定义完整思考过程\n",
    "    answer_content = \"\"     # 定义完整回复\n",
    "    is_answering = False   # 判断是否结束思考过程并开始回复\n",
    "\n",
    "    # 创建聊天完成请求\n",
    "    stream = client.chat.completions.create(\n",
    "        model=\"deepseek-r1\",  # 此处以 deepseek-v3 为例，可按需更换模型名称\n",
    "        messages=[\n",
    "            {\"role\": \"user\", \"content\": question}\n",
    "        ],\n",
    "        stream=True\n",
    "        # 解除以下注释会在最后一个chunk返回Token使用量\n",
    "        # stream_options={\n",
    "        #     \"include_usage\": True\n",
    "        # }\n",
    "    )\n",
    "\n",
    "    # print(\"\\n\" + \"=\" * 20 + \"思考过程\" + \"=\" * 20 + \"\\n\")\n",
    "\n",
    "    for chunk in stream:\n",
    "        # 处理usage信息\n",
    "        if not getattr(chunk, 'choices', None):\n",
    "            # print(\"\\n\" + \"=\" * 20 + \"Token 使用情况\" + \"=\" * 20 + \"\\n\")\n",
    "            print(mmm.usage)\n",
    "            continue\n",
    "\n",
    "        delta = chunk.choices[0].delta\n",
    "\n",
    "        # 检查是否有reasoning_content属性\n",
    "        if not hasattr(delta, 'reasoning_content'):\n",
    "            continue\n",
    "\n",
    "        # 处理空内容情况\n",
    "        if not getattr(delta, 'reasoning_content', None) and not getattr(delta, 'content', None):\n",
    "            continue\n",
    "\n",
    "        # 处理开始回答的情况\n",
    "        if not getattr(delta, 'reasoning_content', None) and not is_answering:\n",
    "            print(\"\\n\" + \"=\" * 20 + \"完整回复\" + \"=\" * 20 + \"\\n\")\n",
    "            is_answering = True\n",
    "\n",
    "        # 处理思考过程\n",
    "        if getattr(delta, 'reasoning_content', None):\n",
    "            print(delta.reasoning_content, end='', flush=True)\n",
    "            reasoning_content += delta.reasoning_content\n",
    "        # 处理回复内容\n",
    "        elif getattr(delta, 'content', None):\n",
    "            print(delta.content, end='', flush=True)\n",
    "            answer_content += delta.content\n",
    "\n",
    "    # 如果需要打印完整内容，解除以下的注释\n",
    "\n",
    "    print(\"=\" * 20 + \"完整思考过程\" + \"=\" * 20 + \"\\n\")\n",
    "    print(reasoning_content)\n",
    "    print(\"=\" * 20 + \"完整回复\" + \"=\" * 20 + \"\\n\")\n",
    "    print(answer_content)\n",
    "\n",
    "    return reasoning_content, answer_content"
   ]
  },
  {
   "cell_type": "code",
   "execution_count": null,
   "id": "f5b08188-1e32-45a4-ad18-1c2a555ea780",
   "metadata": {},
   "outputs": [],
   "source": []
  },
  {
   "cell_type": "code",
   "execution_count": null,
   "id": "38610061-0cc0-4c6e-9efa-97dbf2060dc8",
   "metadata": {
    "scrolled": true
   },
   "outputs": [],
   "source": []
  },
  {
   "cell_type": "code",
   "execution_count": 37,
   "id": "74a9fee2-4f46-4c09-8599-9569de946ec0",
   "metadata": {},
   "outputs": [],
   "source": [
    "\n",
    "\n",
    "def process_json_file(jsonfile, jsondir):\n",
    "    filepath = f\"{jsondir}\\\\{jsonfile}\"\n",
    "    json_data = read_json_file(filepath)\n",
    "    print(f\"{jsonfile} is running\")\n",
    "    reasoning_content, answer = deepseek_qa(json_data['message_1'])\n",
    "    \n",
    "    json_data[\"reasoning_content\"] = reasoning_content\n",
    "    json_data[\"content\"] = answer\n",
    "    \n",
    "    write_json_file(filepath, json_data)\n",
    "    print(f\"{jsonfile} is done\")\n",
    "    \n",
    "def main(jsondir):\n",
    "    with ThreadPoolExecutor(max_workers=1) as executor:\n",
    "        for jsonfile in os.listdir(jsondir):\n",
    "            \n",
    "            executor.submit(process_json_file, jsonfile, jsondir)\n",
    "            "
   ]
  },
  {
   "cell_type": "code",
   "execution_count": 41,
   "id": "83085229-6df0-445c-8ad4-b4dea4b39d61",
   "metadata": {},
   "outputs": [
    {
     "name": "stdout",
     "output_type": "stream",
     "text": [
      "024_008_014.json is running\n"
     ]
    }
   ],
   "source": [
    "import json\n",
    "import os\n",
    "from openai import OpenAI\n",
    "from concurrent.futures import ThreadPoolExecutor\n",
    "\n",
    "client = OpenAI(\n",
    "    # 若没有配置环境变量，请用百炼API Key将下行替换为：api_key=\"sk-xxx\",\n",
    "    api_key=\"\", # 如何获取API Key：https://help.aliyun.com/zh/model-studio/developer-reference/get-api-key\n",
    "    base_url=\"https://dashscope.aliyuncs.com/compatible-mode/v1\",\n",
    ")\n",
    "\n",
    "jsondir = \"F:\\\\Working\\\\ModelDistillation\\\\Chemistry\"\n",
    "main(jsondir)"
   ]
  },
  {
   "cell_type": "code",
   "execution_count": null,
   "id": "5c611edd-4948-448a-9ff1-3a74870abe8f",
   "metadata": {},
   "outputs": [],
   "source": []
  }
 ],
 "metadata": {
  "kernelspec": {
   "display_name": "Python 3 (ipykernel)",
   "language": "python",
   "name": "python3"
  },
  "language_info": {
   "codemirror_mode": {
    "name": "ipython",
    "version": 3
   },
   "file_extension": ".py",
   "mimetype": "text/x-python",
   "name": "python",
   "nbconvert_exporter": "python",
   "pygments_lexer": "ipython3",
   "version": "3.12.3"
  }
 },
 "nbformat": 4,
 "nbformat_minor": 5
}
